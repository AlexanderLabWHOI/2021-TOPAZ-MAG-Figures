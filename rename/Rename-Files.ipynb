{
 "cells": [
  {
   "cell_type": "code",
   "execution_count": 43,
   "metadata": {},
   "outputs": [],
   "source": [
    "import os\n",
    "import glob\n",
    "import pandas as pd"
   ]
  },
  {
   "cell_type": "code",
   "execution_count": 8,
   "metadata": {},
   "outputs": [],
   "source": [
    "with open('renamed-prokaryotic-mags.tsv', 'r') as f:\n",
    "    next(f)\n",
    "    bact_dict = {}\n",
    "    for l in f:\n",
    "        l = l.split()\n",
    "        bact_dict[l[0]] = l[1]\n",
    "    f.close()    \n",
    "with open('renamed-eukaryotic-mags.tsv', 'r') as f:\n",
    "    next(f)\n",
    "    euk_dict = {}\n",
    "    for l in f:\n",
    "        l = l.split()\n",
    "        euk_dict[l[0]] = l[1]\n",
    "    f.close()    \n"
   ]
  },
  {
   "cell_type": "code",
   "execution_count": 26,
   "metadata": {},
   "outputs": [],
   "source": [
    "# for file in glob.glob('../final-bacterial-mags_50_10/*fna'):\n",
    "#     name = os.path.basename(file).strip('.fna')\n",
    "#     fullname = os.path.basename(file)\n",
    "#     newname = bact_dict[name]\n",
    "#     newname_full = newname+'.fna'\n",
    "#     directory = os.path.dirname(file)\n",
    "#     os.rename(file, os.path.join(directory, newname_full))"
   ]
  },
  {
   "cell_type": "code",
   "execution_count": 29,
   "metadata": {},
   "outputs": [],
   "source": [
    "# for file in glob.glob('../final-eukaryotic-mags/*fna'):\n",
    "#     name = os.path.basename(file).strip('.fna')\n",
    "#     fullname = os.path.basename(file)\n",
    "#     newname = euk_dict[name]\n",
    "#     newname_full = newname+'.fna'\n",
    "#     directory = os.path.dirname(file)\n",
    "#     os.rename(file, os.path.join(directory, newname_full))"
   ]
  },
  {
   "cell_type": "code",
   "execution_count": 35,
   "metadata": {},
   "outputs": [],
   "source": [
    "# Check renaming\n",
    "def readinmd5(file):\n",
    "    outdict = {}\n",
    "    with open(file, 'r') as f:\n",
    "        for line in f:\n",
    "            l = line.strip().split()\n",
    "            outdict[os.path.basename(l[1]).strip('.fna')] = l[0]\n",
    "    return(outdict)"
   ]
  },
  {
   "cell_type": "code",
   "execution_count": 53,
   "metadata": {},
   "outputs": [],
   "source": [
    "euk_new_md5 = readinmd5('../eukmd5-new')\n",
    "euk_old_md5 = readinmd5('../eukmd5-old')\n",
    "bact_old_md5 = readinmd5('../bactmd5-old')"
   ]
  },
  {
   "cell_type": "code",
   "execution_count": 50,
   "metadata": {},
   "outputs": [],
   "source": [
    "newdf = pd.DataFrame.from_dict(euk_new_md5, orient='index').reset_index().set_index(0)\n",
    "olddf = pd.DataFrame.from_dict(euk_old_md5, orient='index').reset_index().set_index(0)\n"
   ]
  },
  {
   "cell_type": "code",
   "execution_count": 54,
   "metadata": {
    "scrolled": true
   },
   "outputs": [
    {
     "data": {
      "text/plain": [
       "{'SPO-SPSG-SRF-5-20-00_bin-80': 'df90a6167ba5728f63f2f1ef34387cce'}"
      ]
     },
     "execution_count": 54,
     "metadata": {},
     "output_type": "execute_result"
    }
   ],
   "source": [
    "bact_old_md5"
   ]
  },
  {
   "cell_type": "code",
   "execution_count": null,
   "metadata": {},
   "outputs": [],
   "source": []
  }
 ],
 "metadata": {
  "kernelspec": {
   "display_name": "Python [conda env:.conda-general_plotting] *",
   "language": "python",
   "name": "conda-env-.conda-general_plotting-py"
  },
  "language_info": {
   "codemirror_mode": {
    "name": "ipython",
    "version": 3
   },
   "file_extension": ".py",
   "mimetype": "text/x-python",
   "name": "python",
   "nbconvert_exporter": "python",
   "pygments_lexer": "ipython3",
   "version": "3.6.12"
  }
 },
 "nbformat": 4,
 "nbformat_minor": 4
}
