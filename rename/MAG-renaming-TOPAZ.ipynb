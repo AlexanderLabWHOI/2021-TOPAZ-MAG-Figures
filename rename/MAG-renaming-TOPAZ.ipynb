{
 "cells": [
  {
   "cell_type": "code",
   "execution_count": 2,
   "metadata": {},
   "outputs": [],
   "source": [
    "import pandas as pd"
   ]
  },
  {
   "cell_type": "code",
   "execution_count": 212,
   "metadata": {},
   "outputs": [],
   "source": [
    "#Name Conversions\n",
    "\n",
    "depth = {}\n",
    "with open('conversions/depth', 'r') as f:\n",
    "    for line in f:\n",
    "        ll = line.strip().split()\n",
    "        depth[ll[0]]=ll[1]\n",
    "sf = {}\n",
    "with open('conversions/sf', 'r') as f:\n",
    "    for line in f:\n",
    "        ll = line.strip().split()\n",
    "        sf[ll[0][0]]=ll[1]\n",
    "region = {}\n",
    "with open('conversions/region', 'r') as f:\n",
    "    for line in f:\n",
    "        ll = line.strip().split()\n",
    "        region[ll[0]]=ll[1]"
   ]
  },
  {
   "cell_type": "code",
   "execution_count": 142,
   "metadata": {},
   "outputs": [],
   "source": [
    "euk = pd.read_csv('all-eukaryotic-mags.oldnames.list', header=None)\n",
    "euk['region'] = euk[0].str.split('-').str[0]\n",
    "euk['sf'] = euk[0].str.split('-').str[3].str[0]\n",
    "euk['depth'] = euk[0].str.split('-').str[2]\n",
    "euk['old_mag'] = euk[0].str.strip('.fna')\n",
    "euk = euk.drop(0, axis=1)"
   ]
  },
  {
   "cell_type": "code",
   "execution_count": 143,
   "metadata": {},
   "outputs": [],
   "source": [
    "bact = pd.read_csv('all-bacterial-mags.oldnames.list', header=None)\n",
    "bact['region'] = bact[0].str.split('-').str[0]\n",
    "bact['sf'] = bact[0].str.split('-').str[3].str[0]\n",
    "bact['depth'] = bact[0].str.split('-').str[2]\n",
    "bact['old_mag'] = bact[0].str.strip('.fna')\n",
    "bact = bact.drop(0, axis=1)"
   ]
  },
  {
   "cell_type": "code",
   "execution_count": 147,
   "metadata": {},
   "outputs": [],
   "source": [
    "\n",
    "def rename_mags(df, MAGTYPE='E', BASENAME = 'TOPAZ'):\n",
    "    out_dict = {}\n",
    "    grp = df.groupby(['region', 'sf', 'depth'])\n",
    "    for g, val in grp:\n",
    "        # rename characteristics\n",
    "        r = g[0]\n",
    "        s = g[1]\n",
    "        d = g[2]\n",
    "        new_r = region[r]\n",
    "        new_s = sf[s]\n",
    "        new_d = depth[d]\n",
    "        # construct basename\n",
    "        group_name = BASENAME+'_'+new_r+new_d+new_s+'_'+MAGTYPE\n",
    "        val = val.sort_values('old_mag')\n",
    "        new_names =[]\n",
    "        for i in range(len(val)):\n",
    "            i+=1\n",
    "            new_names.append(group_name + str(i).zfill(3))\n",
    "        val['new_name'] = new_names\n",
    "        for i in val.index:\n",
    "            out_dict[val.loc[i, 'old_mag']] = val.loc[i, 'new_name']\n",
    "    return(out_dict)\n",
    "\n",
    "\n"
   ]
  },
  {
   "cell_type": "code",
   "execution_count": 169,
   "metadata": {},
   "outputs": [],
   "source": [
    "euk_dict = rename_mags(euk)\n",
    "bact_dict = rename_mags(bact, MAGTYPE='P')\n",
    "bact_df = pd.DataFrame.from_dict(bact_dict, orient='index').reset_index()\n",
    "bact_df.columns = ['old_mag_name', 'new_mag_name']\n",
    "euk_df = pd.DataFrame.from_dict(euk_dict, orient='index').reset_index()\n",
    "euk_df.columns = ['old_mag_name', 'new_mag_name']\n",
    "#commenting out the writing of the file to archive it: \n",
    "# euk_df.to_csv('renamed-eukaryotic-mags.tsv', sep='\\t', index=False)\n",
    "# bact_df.to_csv('renamed-prokaryotic-mags.tsv', sep='\\t', index=False)"
   ]
  }
 ],
 "metadata": {
  "kernelspec": {
   "display_name": "Python [conda env:.conda-general_plotting] *",
   "language": "python",
   "name": "conda-env-.conda-general_plotting-py"
  },
  "language_info": {
   "codemirror_mode": {
    "name": "ipython",
    "version": 3
   },
   "file_extension": ".py",
   "mimetype": "text/x-python",
   "name": "python",
   "nbconvert_exporter": "python",
   "pygments_lexer": "ipython3",
   "version": "3.6.12"
  }
 },
 "nbformat": 4,
 "nbformat_minor": 4
}
